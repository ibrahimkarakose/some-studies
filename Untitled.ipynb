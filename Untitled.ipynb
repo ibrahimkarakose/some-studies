{
 "cells": [
  {
   "cell_type": "code",
   "execution_count": null,
   "metadata": {},
   "outputs": [],
   "source": [
    "# While loop\n",
    "item = 0\n",
    "counter =0\n",
    "while counter < 5 :\n",
    "    #print ( counter , item )\n",
    "    print( f\"counter is (counter) and item is (item)\")\n",
    "    counter=item\n",
    "    item +="
   ]
  },
  {
   "cell_type": "code",
   "execution_count": null,
   "metadata": {},
   "outputs": [],
   "source": [
    "# While Loop\n",
    "item =  0 \n",
    "counter = 0 \n",
    "while counter < 5 :\n",
    "    #print( counter , item )\n",
    "    print( f\"counter is {counter } and item is {item}\")\n",
    "    counter = item\n",
    "    item +=1"
   ]
  },
  {
   "cell_type": "code",
   "execution_count": null,
   "metadata": {},
   "outputs": [],
   "source": []
  },
  {
   "cell_type": "code",
   "execution_count": null,
   "metadata": {},
   "outputs": [],
   "source": []
  }
 ],
 "metadata": {
  "kernelspec": {
   "display_name": "Python 3",
   "language": "python",
   "name": "python3"
  },
  "language_info": {
   "codemirror_mode": {
    "name": "ipython",
    "version": 3
   },
   "file_extension": ".py",
   "mimetype": "text/x-python",
   "name": "python",
   "nbconvert_exporter": "python",
   "pygments_lexer": "ipython3",
   "version": "3.8.3"
  }
 },
 "nbformat": 4,
 "nbformat_minor": 4
}
